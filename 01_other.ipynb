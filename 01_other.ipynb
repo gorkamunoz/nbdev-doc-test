{
 "cells": [
  {
   "cell_type": "markdown",
   "id": "9085cb96-3e59-43bc-8f4a-2a2414b0ddc4",
   "metadata": {},
   "source": [
    "# other functions\n",
    "\n",
    "> And this are the other functions"
   ]
  },
  {
   "cell_type": "code",
   "execution_count": null,
   "id": "1000caf7-21a5-402c-9470-29abea0f75b6",
   "metadata": {},
   "outputs": [],
   "source": [
    "#| default_exp other"
   ]
  },
  {
   "cell_type": "code",
   "execution_count": null,
   "id": "82e5b3b5-2f7c-4a51-8914-f19bc218605f",
   "metadata": {},
   "outputs": [],
   "source": [
    "#| export\n",
    "#import matplotlib.animation as animation\n",
    "#import matplotlib.pyplot as plt\n",
    "#from IPython.display import HTML\n",
    "import numpy as np"
   ]
  },
  {
   "cell_type": "markdown",
   "id": "25d0ad6e-67b0-45e3-b873-e82a559aa1c3",
   "metadata": {},
   "source": [
    "# Helpers for videos"
   ]
  },
  {
   "cell_type": "code",
   "execution_count": null,
   "id": "4430e410-3688-47ec-923d-0be49073958c",
   "metadata": {},
   "outputs": [],
   "source": [
    "#| export\n",
    "def play_video(video, # a video blablabla\n",
    "               figsize:tuple=(5, 5), # the size of the fig\n",
    "               fps:int=10, # the fps\n",
    "              ) -> int: # a number\n",
    "\n",
    "\n",
    "    fig = plt.figure(figsize=figsize)\n",
    "    images = []\n",
    "    plt.axis(\"off\")\n",
    "\n",
    "    for image in video:\n",
    "        images.append([plt.imshow(image[:, :, 0], cmap=\"gray\")])\n",
    "\n",
    "    anim = animation.ArtistAnimation(\n",
    "        fig, images, interval=1e3 / fps, blit=True, repeat_delay=0\n",
    "    )\n",
    "\n",
    "    html = HTML(anim.to_jshtml())\n",
    "    display(html)\n",
    "    plt.close()\n",
    "    \n",
    "    return 123"
   ]
  },
  {
   "cell_type": "code",
   "execution_count": null,
   "id": "df793fd2-8f83-413f-bbd2-82e2b4f21010",
   "metadata": {},
   "outputs": [],
   "source": [
    "#| hide\n",
    "import nbdev; nbdev.nbdev_export()"
   ]
  },
  {
   "cell_type": "code",
   "execution_count": null,
   "id": "4d4b55c0-c024-436d-a821-6675ec5f21d5",
   "metadata": {},
   "outputs": [],
   "source": []
  }
 ],
 "metadata": {
  "kernelspec": {
   "display_name": "Python 3 (ipykernel)",
   "language": "python",
   "name": "python3"
  }
 },
 "nbformat": 4,
 "nbformat_minor": 5
}
